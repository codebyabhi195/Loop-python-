{
 "cells": [
  {
   "cell_type": "code",
   "execution_count": 2,
   "id": "9add8179-57d3-4759-b5a6-f9a4ba42e51a",
   "metadata": {},
   "outputs": [
    {
     "name": "stdout",
     "output_type": "stream",
     "text": [
      "1\n",
      "2\n",
      "3\n",
      "4\n",
      "5\n",
      "6\n",
      "7\n",
      "8\n",
      "9\n",
      "10\n"
     ]
    }
   ],
   "source": [
    " a = 1\n",
    "    \n",
    "while a <= 10:\n",
    "    print(a)\n",
    "    a= a+1"
   ]
  },
  {
   "cell_type": "code",
   "execution_count": 14,
   "id": "b7ca3fb9-ea81-4898-8bed-e24005df57f4",
   "metadata": {},
   "outputs": [
    {
     "name": "stdin",
     "output_type": "stream",
     "text": [
      "enter your limit 3\n"
     ]
    },
    {
     "data": {
      "text/plain": [
       "6"
      ]
     },
     "execution_count": 14,
     "metadata": {},
     "output_type": "execute_result"
    }
   ],
   "source": [
    "# sum of the number till some point \n",
    "n= int(input(\"enter your limit\"))\n",
    "starting_point = 0\n",
    "counter = 1\n",
    "\n",
    "while counter <=n:\n",
    "    starting_point = starting_point + counter\n",
    "    counter = counter + 1\n",
    "starting_point"
   ]
  },
  {
   "cell_type": "code",
   "execution_count": 10,
   "id": "da280f86-1f54-45e8-8326-b8154637eda8",
   "metadata": {},
   "outputs": [
    {
     "name": "stdin",
     "output_type": "stream",
     "text": [
      "enter your number 3\n"
     ]
    },
    {
     "data": {
      "text/plain": [
       "6"
      ]
     },
     "execution_count": 10,
     "metadata": {},
     "output_type": "execute_result"
    }
   ],
   "source": [
    "#sum of the any factorial number\n",
    "number = int(input(\"enter your number\"))\n",
    "factorial = 1\n",
    "while number >0 :\n",
    "    factorial = factorial *number\n",
    "    number = number -1\n",
    "factorial    "
   ]
  },
  {
   "cell_type": "code",
   "execution_count": 16,
   "id": "94cde8e0-c8d9-4138-8992-f120d8e7e7e2",
   "metadata": {},
   "outputs": [
    {
     "name": "stdin",
     "output_type": "stream",
     "text": [
      "enter the number of element you are looking for  22\n"
     ]
    },
    {
     "name": "stdout",
     "output_type": "stream",
     "text": [
      "0\n",
      "1\n",
      "1\n",
      "2\n",
      "3\n",
      "5\n",
      "8\n",
      "13\n",
      "21\n",
      "34\n",
      "55\n",
      "89\n",
      "144\n",
      "233\n",
      "377\n",
      "610\n",
      "987\n",
      "1597\n",
      "2584\n",
      "4181\n",
      "6765\n",
      "10946\n"
     ]
    }
   ],
   "source": [
    "\n",
    "# finonacci series\n",
    "\n",
    "number = int (input(\"enter the number of element you are looking for \"))\n",
    "a ,b = 0,1\n",
    "counter =0\n",
    "while counter <number:\n",
    "    print (a)\n",
    "    c = a+b\n",
    "    a=b\n",
    "    b = c\n",
    "    counter = counter +1"
   ]
  },
  {
   "cell_type": "code",
   "execution_count": 27,
   "id": "4e954868-0e89-4266-b081-c10efb4a3af2",
   "metadata": {},
   "outputs": [
    {
     "name": "stdout",
     "output_type": "stream",
     "text": [
      "0\n",
      "1\n",
      "1\n",
      "2\n",
      "3\n",
      "5\n",
      "8\n",
      "13\n",
      "21\n",
      "34\n",
      "55\n",
      "89\n"
     ]
    }
   ],
   "source": [
    "# for loop same code\n",
    "a , b = 0 ,1 \n",
    "for i in range(12):\n",
    "    print (a)\n",
    "    c = a + b\n",
    "    a = b\n",
    "    b = c"
   ]
  },
  {
   "cell_type": "code",
   "execution_count": 28,
   "id": "b7fcbd12-da3e-466d-b184-a8ddd88391bd",
   "metadata": {},
   "outputs": [],
   "source": [
    "s = \"abhi\""
   ]
  },
  {
   "cell_type": "code",
   "execution_count": 33,
   "id": "000f0a64-1ebc-412e-92fa-21f2f138002e",
   "metadata": {},
   "outputs": [
    {
     "data": {
      "text/plain": [
       "'ihba'"
      ]
     },
     "execution_count": 33,
     "metadata": {},
     "output_type": "execute_result"
    }
   ],
   "source": [
    "s[::-1]"
   ]
  },
  {
   "cell_type": "code",
   "execution_count": 35,
   "id": "c10040bf-03fb-4f51-9de4-c2eba720d8ba",
   "metadata": {},
   "outputs": [
    {
     "name": "stdin",
     "output_type": "stream",
     "text": [
      "enter your string for reversal abhi\n"
     ]
    }
   ],
   "source": [
    " word = input(\"enter your string for reversal\")"
   ]
  },
  {
   "cell_type": "code",
   "execution_count": 44,
   "id": "b4a95709-89cf-4ac4-926e-3e93db2a03df",
   "metadata": {},
   "outputs": [
    {
     "name": "stdout",
     "output_type": "stream",
     "text": [
      "ihba\n"
     ]
    }
   ],
   "source": [
    "reverse = \"\"\n",
    "length = len(word)\n",
    "while length > 0 :\n",
    "    reverse = reverse + word[length -1]\n",
    "    length = length - 1\n",
    "print(reverse)"
   ]
  },
  {
   "cell_type": "code",
   "execution_count": null,
   "id": "c61c9e7c-3bdb-462f-8967-60335498ac3c",
   "metadata": {},
   "outputs": [],
   "source": [
    "# print table of number"
   ]
  },
  {
   "cell_type": "code",
   "execution_count": 47,
   "id": "b0cc516c-048e-4086-b87b-a8ef34c20ba3",
   "metadata": {},
   "outputs": [
    {
     "name": "stdin",
     "output_type": "stream",
     "text": [
      "enter the  your number 19\n"
     ]
    },
    {
     "name": "stdout",
     "output_type": "stream",
     "text": [
      "19 * 1 = 19\n",
      "19 * 2 = 38\n",
      "19 * 3 = 57\n",
      "19 * 4 = 76\n",
      "19 * 5 = 95\n",
      "19 * 6 = 114\n",
      "19 * 7 = 133\n",
      "19 * 8 = 152\n",
      "19 * 9 = 171\n",
      "19 * 10 = 190\n"
     ]
    }
   ],
   "source": [
    "n = int (input(\"enter the  your number\"))\n",
    "i =1 \n",
    "\n",
    "while i <=10 :\n",
    "    result = n*i\n",
    "    print(n ,\"*\" , i , \"=\" , result )\n",
    "    i = i+1"
   ]
  },
  {
   "cell_type": "code",
   "execution_count": 49,
   "id": "3388f05b-3107-4fe7-b061-0e518ede2271",
   "metadata": {},
   "outputs": [
    {
     "name": "stdout",
     "output_type": "stream",
     "text": [
      "1\n",
      "2\n",
      "3\n",
      "4\n",
      "this will be executed once your while will complete it succesfully\n"
     ]
    }
   ],
   "source": [
    "n = 5 \n",
    "i =1 \n",
    "while i<n:\n",
    "    print(i)\n",
    "    i= i+1\n",
    "else:\n",
    "    print(\"this will be executed once your while will complete it succesfully\")"
   ]
  },
  {
   "cell_type": "code",
   "execution_count": 50,
   "id": "d9eaf269-a1b1-4499-a3a0-fd29c1a24d9f",
   "metadata": {},
   "outputs": [
    {
     "name": "stdout",
     "output_type": "stream",
     "text": [
      "1\n",
      "2\n",
      "3\n"
     ]
    }
   ],
   "source": [
    "n = 5 \n",
    "i =1 \n",
    "while i<n:\n",
    "    print(i)\n",
    "    if i==3 :\n",
    "        break\n",
    "    i= i+1\n",
    "    \n",
    "else:\n",
    "    print(\"this will be executed once your while will complete it succesfully\")"
   ]
  },
  {
   "cell_type": "code",
   "execution_count": null,
   "id": "de920b49-6a78-4083-b339-cc57df086722",
   "metadata": {},
   "outputs": [],
   "source": []
  }
 ],
 "metadata": {
  "kernelspec": {
   "display_name": "Python 3 (ipykernel)",
   "language": "python",
   "name": "python3"
  },
  "language_info": {
   "codemirror_mode": {
    "name": "ipython",
    "version": 3
   },
   "file_extension": ".py",
   "mimetype": "text/x-python",
   "name": "python",
   "nbconvert_exporter": "python",
   "pygments_lexer": "ipython3",
   "version": "3.10.8"
  }
 },
 "nbformat": 4,
 "nbformat_minor": 5
}
