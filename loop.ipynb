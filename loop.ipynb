{
 "cells": [
  {
   "cell_type": "code",
   "execution_count": 1,
   "id": "5eea5a64-6a0b-4cd2-b064-2d2dc138da7a",
   "metadata": {},
   "outputs": [],
   "source": [
    "l = [1,2,3,4,5,6,7,8,9]"
   ]
  },
  {
   "cell_type": "code",
   "execution_count": 2,
   "id": "edf12f5f-f9e4-45ab-9dcf-27fa543048fd",
   "metadata": {},
   "outputs": [
    {
     "data": {
      "text/plain": [
       "[1, 2, 3, 4, 5, 6, 7, 8, 9]"
      ]
     },
     "execution_count": 2,
     "metadata": {},
     "output_type": "execute_result"
    }
   ],
   "source": [
    "l"
   ]
  },
  {
   "cell_type": "code",
   "execution_count": 3,
   "id": "7dea454b-9d96-4c57-b580-6577d59979cc",
   "metadata": {},
   "outputs": [
    {
     "data": {
      "text/plain": [
       "4"
      ]
     },
     "execution_count": 3,
     "metadata": {},
     "output_type": "execute_result"
    }
   ],
   "source": [
    "l[3]"
   ]
  },
  {
   "cell_type": "code",
   "execution_count": 13,
   "id": "7fea56b5-335d-4b78-a965-873eb9215e50",
   "metadata": {},
   "outputs": [],
   "source": [
    "ll = []"
   ]
  },
  {
   "cell_type": "code",
   "execution_count": 14,
   "id": "ed91c2d0-3ff7-41a6-a568-110163fb393f",
   "metadata": {},
   "outputs": [],
   "source": [
    "ll.append(l[0]+1)"
   ]
  },
  {
   "cell_type": "code",
   "execution_count": 15,
   "id": "85b68aa9-f531-4c96-a671-1f89a73d72ef",
   "metadata": {},
   "outputs": [
    {
     "data": {
      "text/plain": [
       "[2]"
      ]
     },
     "execution_count": 15,
     "metadata": {},
     "output_type": "execute_result"
    }
   ],
   "source": [
    "ll"
   ]
  },
  {
   "cell_type": "code",
   "execution_count": 17,
   "id": "7fb3d90a-2c15-416f-8a79-a43252079ff1",
   "metadata": {},
   "outputs": [],
   "source": [
    "l = [1,2 ,3, 4,5,6,7,8]"
   ]
  },
  {
   "cell_type": "code",
   "execution_count": 19,
   "id": "3b3bdb83-cd9b-489e-a0d6-cfe34142d67c",
   "metadata": {},
   "outputs": [
    {
     "name": "stdout",
     "output_type": "stream",
     "text": [
      "[1, 2, 3, 4, 5, 6, 7, 8]\n",
      "[1, 2, 3, 4, 5, 6, 7, 8]\n",
      "[1, 2, 3, 4, 5, 6, 7, 8]\n",
      "[1, 2, 3, 4, 5, 6, 7, 8]\n",
      "[1, 2, 3, 4, 5, 6, 7, 8]\n",
      "[1, 2, 3, 4, 5, 6, 7, 8]\n",
      "[1, 2, 3, 4, 5, 6, 7, 8]\n",
      "[1, 2, 3, 4, 5, 6, 7, 8]\n"
     ]
    }
   ],
   "source": [
    "for i in l:\n",
    "    print(l)"
   ]
  },
  {
   "cell_type": "code",
   "execution_count": 25,
   "id": "901ae368-8d21-40d5-bc19-f3cca5359dfc",
   "metadata": {},
   "outputs": [
    {
     "name": "stdout",
     "output_type": "stream",
     "text": [
      "2\n",
      "3\n",
      "4\n",
      "5\n",
      "6\n",
      "7\n",
      "8\n",
      "9\n"
     ]
    },
    {
     "data": {
      "text/plain": [
       "[2, 3, 4, 5, 6, 7, 8, 9]"
      ]
     },
     "execution_count": 25,
     "metadata": {},
     "output_type": "execute_result"
    }
   ],
   "source": [
    "ll = []\n",
    "for i in l:\n",
    "    print(i+1)\n",
    "    ll.append(i+1)\n",
    "ll"
   ]
  },
  {
   "cell_type": "code",
   "execution_count": 26,
   "id": "7131ab3a-ddcd-4357-b4ee-c3bf93a45c49",
   "metadata": {},
   "outputs": [
    {
     "data": {
      "text/plain": [
       "[1, 2, 3, 4, 5, 6, 7, 8]"
      ]
     },
     "execution_count": 26,
     "metadata": {},
     "output_type": "execute_result"
    }
   ],
   "source": [
    "l"
   ]
  },
  {
   "cell_type": "code",
   "execution_count": 27,
   "id": "f9c766ab-f58d-4691-acad-6203cc113837",
   "metadata": {},
   "outputs": [],
   "source": [
    "l= [\"abhi\" , \"ajeet\" , \"rohit\", \"virat\"]"
   ]
  },
  {
   "cell_type": "code",
   "execution_count": null,
   "id": "19b42670-e21c-45fe-b63c-349469732d19",
   "metadata": {},
   "outputs": [],
   "source": [
    "ll=[]\n",
    "for i in l: \n",
    "    print (i)\n",
    "    ll.append(i.upper())"
   ]
  },
  {
   "cell_type": "code",
   "execution_count": null,
   "id": "6c7084e4-fce9-450c-8691-f3b0cd237002",
   "metadata": {},
   "outputs": [],
   "source": []
  },
  {
   "cell_type": "code",
   "execution_count": null,
   "id": "a3fc239f-fc26-438e-a91e-dcdef045e625",
   "metadata": {},
   "outputs": [],
   "source": []
  },
  {
   "cell_type": "code",
   "execution_count": null,
   "id": "5e95f77e-66f0-43e4-bc4d-1eb8c2a4e6ea",
   "metadata": {},
   "outputs": [],
   "source": []
  },
  {
   "cell_type": "code",
   "execution_count": null,
   "id": "707f6006-d0a1-4189-b5fc-c9b9fb83da48",
   "metadata": {},
   "outputs": [],
   "source": []
  }
 ],
 "metadata": {
  "kernelspec": {
   "display_name": "Python 3 (ipykernel)",
   "language": "python",
   "name": "python3"
  },
  "language_info": {
   "codemirror_mode": {
    "name": "ipython",
    "version": 3
   },
   "file_extension": ".py",
   "mimetype": "text/x-python",
   "name": "python",
   "nbconvert_exporter": "python",
   "pygments_lexer": "ipython3",
   "version": "3.10.8"
  }
 },
 "nbformat": 4,
 "nbformat_minor": 5
}
