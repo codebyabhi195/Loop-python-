{
 "cells": [
  {
   "cell_type": "code",
   "execution_count": 1,
   "id": "e755225f-ddd3-41f6-9f66-3adf0adffc55",
   "metadata": {},
   "outputs": [],
   "source": [
    " l = [1,2,3,4,5,6,7]\n",
    "    "
   ]
  },
  {
   "cell_type": "code",
   "execution_count": 3,
   "id": "b5799ea0-2cb7-4665-b4e2-49f82c665a30",
   "metadata": {},
   "outputs": [
    {
     "name": "stdout",
     "output_type": "stream",
     "text": [
      "1\n",
      "2\n",
      "3\n",
      "4\n",
      "5\n",
      "6\n",
      "7\n"
     ]
    }
   ],
   "source": [
    "for i in l :\n",
    "    print(i)"
   ]
  },
  {
   "cell_type": "code",
   "execution_count": 7,
   "id": "c32f7fe6-9417-474e-a597-18f8c1efee0c",
   "metadata": {},
   "outputs": [
    {
     "name": "stdout",
     "output_type": "stream",
     "text": [
      "1 <class 'int'>\n",
      "2 <class 'int'>\n",
      "3 <class 'int'>\n",
      "4 <class 'int'>\n",
      "5 <class 'int'>\n",
      "6 <class 'int'>\n",
      "7 <class 'int'>\n"
     ]
    }
   ],
   "source": [
    "for i in l :\n",
    "    print(i ,type(i))"
   ]
  },
  {
   "cell_type": "code",
   "execution_count": 11,
   "id": "3c98dffc-b611-4668-ad8e-527be4e89d98",
   "metadata": {},
   "outputs": [],
   "source": [
    "l1 = [\"abhi\" , \"jagga\", \"kumar\" ,\"gupta\"]\n"
   ]
  },
  {
   "cell_type": "code",
   "execution_count": 12,
   "id": "6184c00c-6398-4652-a44a-90bf4bc53dd9",
   "metadata": {},
   "outputs": [
    {
     "name": "stdout",
     "output_type": "stream",
     "text": [
      "abhi\n",
      "jagga\n",
      "kumar\n",
      "gupta\n"
     ]
    }
   ],
   "source": [
    "for i in l1:\n",
    "    print (i)"
   ]
  },
  {
   "cell_type": "code",
   "execution_count": 13,
   "id": "35dbfb14-7b2d-4325-b7d8-b17da93a56e1",
   "metadata": {},
   "outputs": [
    {
     "data": {
      "text/plain": [
       "['abhi', 'jagga', 'kumar', 'gupta']"
      ]
     },
     "execution_count": 13,
     "metadata": {},
     "output_type": "execute_result"
    }
   ],
   "source": [
    "l1 "
   ]
  },
  {
   "cell_type": "code",
   "execution_count": 16,
   "id": "8603e7b4-67c3-4830-81bf-a45148d50c85",
   "metadata": {},
   "outputs": [
    {
     "name": "stdout",
     "output_type": "stream",
     "text": [
      "abhi\n",
      "jagga\n",
      "kumar\n",
      "gupta\n",
      "this is my name for all\n"
     ]
    }
   ],
   "source": [
    "for i in l1:\n",
    "    print (i)\n",
    "else :\n",
    "    print(\"this is my name for all\")"
   ]
  },
  {
   "cell_type": "code",
   "execution_count": 17,
   "id": "ff0b161f-aa56-4452-b49c-cfcc9f0cba0b",
   "metadata": {},
   "outputs": [
    {
     "data": {
      "text/plain": [
       "['abhi', 'jagga', 'kumar', 'gupta']"
      ]
     },
     "execution_count": 17,
     "metadata": {},
     "output_type": "execute_result"
    }
   ],
   "source": [
    "l1"
   ]
  },
  {
   "cell_type": "code",
   "execution_count": 18,
   "id": "2fec33e7-bfb4-4056-970c-6600e6749d6d",
   "metadata": {},
   "outputs": [
    {
     "name": "stdout",
     "output_type": "stream",
     "text": [
      "abhi\n"
     ]
    }
   ],
   "source": [
    "for i in l1 :\n",
    "    if i == \"jagga\":\n",
    "        break\n",
    "    print(i)"
   ]
  },
  {
   "cell_type": "code",
   "execution_count": 20,
   "id": "e1c18676-a345-4ca1-95ac-a5fc2c6f6ba6",
   "metadata": {},
   "outputs": [
    {
     "name": "stdout",
     "output_type": "stream",
     "text": [
      "abhi\n",
      "kumar\n",
      "gupta\n",
      "execute this if for loop is able to complete itself\n"
     ]
    }
   ],
   "source": [
    "for i in l1 :\n",
    "    if i ==\"jagga\":\n",
    "        continue\n",
    "    print(i) \n",
    "else :\n",
    "    print (\"execute this if for loop is able to complete itself\")"
   ]
  },
  {
   "cell_type": "code",
   "execution_count": 21,
   "id": "a0682112-b54f-4951-99cb-6b22e5ac4488",
   "metadata": {},
   "outputs": [
    {
     "data": {
      "text/plain": [
       "range(0, 5)"
      ]
     },
     "execution_count": 21,
     "metadata": {},
     "output_type": "execute_result"
    }
   ],
   "source": [
    "range(5)"
   ]
  },
  {
   "cell_type": "code",
   "execution_count": 22,
   "id": "fd6329b5-e0c1-4bab-8587-1c597cbedfee",
   "metadata": {},
   "outputs": [
    {
     "data": {
      "text/plain": [
       "[0, 1, 2, 3, 4]"
      ]
     },
     "execution_count": 22,
     "metadata": {},
     "output_type": "execute_result"
    }
   ],
   "source": [
    "list(range(5))"
   ]
  },
  {
   "cell_type": "code",
   "execution_count": 23,
   "id": "456cb0cb-d027-4d10-b0fd-8b624badfb33",
   "metadata": {},
   "outputs": [
    {
     "data": {
      "text/plain": [
       "range(0, 34)"
      ]
     },
     "execution_count": 23,
     "metadata": {},
     "output_type": "execute_result"
    }
   ],
   "source": [
    "range (34)"
   ]
  },
  {
   "cell_type": "code",
   "execution_count": 25,
   "id": "3308bf9a-7014-4a27-a564-c1c0164e106d",
   "metadata": {},
   "outputs": [
    {
     "data": {
      "text/plain": [
       "[0,\n",
       " 1,\n",
       " 2,\n",
       " 3,\n",
       " 4,\n",
       " 5,\n",
       " 6,\n",
       " 7,\n",
       " 8,\n",
       " 9,\n",
       " 10,\n",
       " 11,\n",
       " 12,\n",
       " 13,\n",
       " 14,\n",
       " 15,\n",
       " 16,\n",
       " 17,\n",
       " 18,\n",
       " 19,\n",
       " 20,\n",
       " 21,\n",
       " 22,\n",
       " 23,\n",
       " 24,\n",
       " 25,\n",
       " 26,\n",
       " 27,\n",
       " 28,\n",
       " 29,\n",
       " 30,\n",
       " 31,\n",
       " 32,\n",
       " 33]"
      ]
     },
     "execution_count": 25,
     "metadata": {},
     "output_type": "execute_result"
    }
   ],
   "source": [
    "list(range(34))"
   ]
  },
  {
   "cell_type": "code",
   "execution_count": 26,
   "id": "50f1469d-d3ba-4a2c-ac14-9336c79d8d93",
   "metadata": {},
   "outputs": [
    {
     "data": {
      "text/plain": [
       "[0, 1, 2, 3, 4]"
      ]
     },
     "execution_count": 26,
     "metadata": {},
     "output_type": "execute_result"
    }
   ],
   "source": [
    "list(range(0,5,1))"
   ]
  },
  {
   "cell_type": "code",
   "execution_count": 27,
   "id": "d0c12211-d62e-4136-bed2-739e4cc4cbc3",
   "metadata": {},
   "outputs": [
    {
     "data": {
      "text/plain": [
       "[0, 2, 4, 6, 8, 10, 12, 14, 16, 18]"
      ]
     },
     "execution_count": 27,
     "metadata": {},
     "output_type": "execute_result"
    }
   ],
   "source": [
    "list(range(0,20,2))"
   ]
  },
  {
   "cell_type": "code",
   "execution_count": 28,
   "id": "327826ac-62b7-4bba-a352-fdb89cc2059b",
   "metadata": {},
   "outputs": [
    {
     "data": {
      "text/plain": [
       "[0, 19, 38, 57, 76, 95, 114, 133, 152, 171]"
      ]
     },
     "execution_count": 28,
     "metadata": {},
     "output_type": "execute_result"
    }
   ],
   "source": [
    "list(range(0,190,19))"
   ]
  },
  {
   "cell_type": "code",
   "execution_count": 29,
   "id": "81ba23c5-8eab-46d7-8843-b1c543381c53",
   "metadata": {},
   "outputs": [
    {
     "data": {
      "text/plain": [
       "[0, 1937, 3874, 5811, 7748, 9685, 11622, 13559, 15496, 17433]"
      ]
     },
     "execution_count": 29,
     "metadata": {},
     "output_type": "execute_result"
    }
   ],
   "source": [
    "list(range(0,19370,1937))"
   ]
  },
  {
   "cell_type": "code",
   "execution_count": 31,
   "id": "bc312d3e-76d7-47db-bc54-9c3def1a1329",
   "metadata": {},
   "outputs": [
    {
     "data": {
      "text/plain": [
       "[0, -1, -2, -3, -4]"
      ]
     },
     "execution_count": 31,
     "metadata": {},
     "output_type": "execute_result"
    }
   ],
   "source": [
    "list(range(0,-5,-1))"
   ]
  },
  {
   "cell_type": "code",
   "execution_count": 32,
   "id": "26590018-12bf-4e30-be95-c26e07f038fa",
   "metadata": {},
   "outputs": [
    {
     "data": {
      "text/plain": [
       "[-10, -9, -8, -7, -6, -5, -4, -3, -2, -1, 0, 1, 2, 3, 4]"
      ]
     },
     "execution_count": 32,
     "metadata": {},
     "output_type": "execute_result"
    }
   ],
   "source": [
    "list(range(-10,5,1))"
   ]
  },
  {
   "cell_type": "code",
   "execution_count": 33,
   "id": "c97c7a03-0f9d-447d-ba1a-dfe0dc020fa0",
   "metadata": {},
   "outputs": [
    {
     "data": {
      "text/plain": [
       "['abhi', 'jagga', 'kumar', 'gupta']"
      ]
     },
     "execution_count": 33,
     "metadata": {},
     "output_type": "execute_result"
    }
   ],
   "source": [
    "l1"
   ]
  },
  {
   "cell_type": "code",
   "execution_count": 34,
   "id": "273e88c6-7b04-46c9-8005-0b3260349986",
   "metadata": {},
   "outputs": [
    {
     "data": {
      "text/plain": [
       "4"
      ]
     },
     "execution_count": 34,
     "metadata": {},
     "output_type": "execute_result"
    }
   ],
   "source": [
    "len(l1)"
   ]
  },
  {
   "cell_type": "code",
   "execution_count": 39,
   "id": "214dabf7-9ebd-4b58-acca-5b1a0b7d412e",
   "metadata": {},
   "outputs": [
    {
     "data": {
      "text/plain": [
       "[0, 1, 2, 3]"
      ]
     },
     "execution_count": 39,
     "metadata": {},
     "output_type": "execute_result"
    }
   ],
   "source": [
    "list(range(len(l1)))"
   ]
  },
  {
   "cell_type": "code",
   "execution_count": 45,
   "id": "db5fdf52-1f9a-4c46-9566-96e82a522812",
   "metadata": {},
   "outputs": [
    {
     "name": "stdout",
     "output_type": "stream",
     "text": [
      "0 abhi\n",
      "1 jagga\n",
      "2 kumar\n",
      "3 gupta\n"
     ]
    }
   ],
   "source": [
    "for i in range(len(l1)):\n",
    "    print(i,l1 [i])"
   ]
  },
  {
   "cell_type": "code",
   "execution_count": 47,
   "id": "d17eb805-216c-41e9-9550-69a8843b6e3d",
   "metadata": {},
   "outputs": [
    {
     "data": {
      "text/plain": [
       "4"
      ]
     },
     "execution_count": 47,
     "metadata": {},
     "output_type": "execute_result"
    }
   ],
   "source": [
    "len(l1)"
   ]
  },
  {
   "cell_type": "code",
   "execution_count": 53,
   "id": "f33228cd-26a8-41f2-a36e-2741992531d4",
   "metadata": {},
   "outputs": [
    {
     "data": {
      "text/plain": [
       "[3, 2, 1, 0]"
      ]
     },
     "execution_count": 53,
     "metadata": {},
     "output_type": "execute_result"
    }
   ],
   "source": [
    "list(range(len(l1) -1,-1 ,-1))"
   ]
  },
  {
   "cell_type": "code",
   "execution_count": 52,
   "id": "1b13cc39-2bcc-45bd-a935-046bfc425d25",
   "metadata": {},
   "outputs": [
    {
     "data": {
      "text/plain": [
       "['abhi', 'jagga', 'kumar', 'gupta']"
      ]
     },
     "execution_count": 52,
     "metadata": {},
     "output_type": "execute_result"
    }
   ],
   "source": [
    "l1"
   ]
  },
  {
   "cell_type": "code",
   "execution_count": 54,
   "id": "51c1de29-4290-40b3-b6ac-fa8068760847",
   "metadata": {},
   "outputs": [
    {
     "name": "stdout",
     "output_type": "stream",
     "text": [
      "gupta\n",
      "kumar\n",
      "jagga\n",
      "abhi\n"
     ]
    }
   ],
   "source": [
    "for i in range(len(l1) -1,-1 ,-1):\n",
    "    print(l1[i])"
   ]
  },
  {
   "cell_type": "code",
   "execution_count": 59,
   "id": "deed9918-4b68-4ea9-b542-e5f0221dbb81",
   "metadata": {},
   "outputs": [],
   "source": [
    "l2 = [22, 343,44,43,43,5,65,76,87,87,8,6,98]\n"
   ]
  },
  {
   "cell_type": "code",
   "execution_count": 63,
   "id": "1069a927-cfa3-4f94-9496-d39cc4d706fe",
   "metadata": {},
   "outputs": [
    {
     "data": {
      "text/plain": [
       "[0, 2, 4, 6, 8, 10, 12]"
      ]
     },
     "execution_count": 63,
     "metadata": {},
     "output_type": "execute_result"
    }
   ],
   "source": [
    "list(range(0,len(l2),2))"
   ]
  },
  {
   "cell_type": "code",
   "execution_count": 66,
   "id": "602540ee-4f68-4c20-aefb-41777b437aa3",
   "metadata": {},
   "outputs": [
    {
     "name": "stdout",
     "output_type": "stream",
     "text": [
      "22\n",
      "44\n",
      "43\n",
      "65\n",
      "87\n",
      "8\n",
      "98\n"
     ]
    }
   ],
   "source": [
    "for i in range(0,len(l2),2):\n",
    "    print(l2 [i])"
   ]
  },
  {
   "cell_type": "code",
   "execution_count": 68,
   "id": "6e012943-3c60-49a9-881c-1ba198bb4ed3",
   "metadata": {},
   "outputs": [
    {
     "data": {
      "text/plain": [
       "5"
      ]
     },
     "execution_count": 68,
     "metadata": {},
     "output_type": "execute_result"
    }
   ],
   "source": [
    "l2[5]"
   ]
  },
  {
   "cell_type": "code",
   "execution_count": 69,
   "id": "29d3d54b-b81e-4b92-a7e7-69af3b9cfcfa",
   "metadata": {},
   "outputs": [],
   "source": [
    "l= [1,2,3,45,565,7678]"
   ]
  },
  {
   "cell_type": "code",
   "execution_count": 70,
   "id": "dcac2354-4b30-47e2-9342-2030348859d1",
   "metadata": {},
   "outputs": [
    {
     "data": {
      "text/plain": [
       "8294"
      ]
     },
     "execution_count": 70,
     "metadata": {},
     "output_type": "execute_result"
    }
   ],
   "source": [
    "sum(l)"
   ]
  },
  {
   "cell_type": "code",
   "execution_count": 72,
   "id": "65eff65f-2568-4a42-8964-7ab750f30686",
   "metadata": {},
   "outputs": [
    {
     "data": {
      "text/plain": [
       "[0, 2, 4, 6, 8, 10, 12, 14, 16, 18]"
      ]
     },
     "execution_count": 72,
     "metadata": {},
     "output_type": "execute_result"
    }
   ],
   "source": [
    "list(range(0,20,2))"
   ]
  },
  {
   "cell_type": "code",
   "execution_count": 73,
   "id": "a6ffa85f-c533-4d2c-b56f-3bc20c4aa5f9",
   "metadata": {},
   "outputs": [
    {
     "data": {
      "text/plain": [
       "90"
      ]
     },
     "execution_count": 73,
     "metadata": {},
     "output_type": "execute_result"
    }
   ],
   "source": [
    "sum(range(0,20,2))"
   ]
  },
  {
   "cell_type": "code",
   "execution_count": 74,
   "id": "5e84f18d-644f-4f3b-8195-7fe8002eb744",
   "metadata": {},
   "outputs": [
    {
     "data": {
      "text/plain": [
       "8294"
      ]
     },
     "execution_count": 74,
     "metadata": {},
     "output_type": "execute_result"
    }
   ],
   "source": [
    "result =0\n",
    "for i in l:\n",
    "    result = result+i\n",
    "result\n",
    "    "
   ]
  },
  {
   "cell_type": "code",
   "execution_count": 76,
   "id": "ce3c9a0f-2a8d-41ea-888d-a16b109fa322",
   "metadata": {},
   "outputs": [],
   "source": [
    "t = (1,34,4,5,6,2,3,886,9,567,4,565,)"
   ]
  },
  {
   "cell_type": "code",
   "execution_count": 78,
   "id": "9fdfc282-838f-4777-80da-eeb7c327a8bb",
   "metadata": {},
   "outputs": [
    {
     "data": {
      "text/plain": [
       "2086"
      ]
     },
     "execution_count": 78,
     "metadata": {},
     "output_type": "execute_result"
    }
   ],
   "source": [
    "result=0\n",
    "for i in t:\n",
    "    result = result +i\n",
    "result    "
   ]
  },
  {
   "cell_type": "code",
   "execution_count": 88,
   "id": "94017915-4253-48f1-809a-8e36af9b84fa",
   "metadata": {},
   "outputs": [],
   "source": [
    "s ={ 1,2,3,6,7,7,6,8, \"abhi\" , \"jaggga\" ,\"kuamar\"}"
   ]
  },
  {
   "cell_type": "code",
   "execution_count": 89,
   "id": "bb0b399d-3d22-406b-b1a7-c78e74d4544b",
   "metadata": {},
   "outputs": [
    {
     "name": "stdout",
     "output_type": "stream",
     "text": [
      "1\n",
      "2\n",
      "3\n",
      "6\n",
      "7\n",
      "8\n",
      "jaggga\n",
      "abhi\n",
      "kuamar\n"
     ]
    }
   ],
   "source": [
    "for i in s:\n",
    "    print(i)"
   ]
  },
  {
   "cell_type": "code",
   "execution_count": 91,
   "id": "9fae40cd-cd9c-48f8-9e5c-79f8b692b201",
   "metadata": {},
   "outputs": [],
   "source": [
    "#together to dic\n",
    "d= {\"name\" :\"abhi\", \"class\": \"Btech(cse)\" , \n",
    "   \"topics\" :[\"python\", \"stats\",\"machine learning\",\"dl\",\"CV\",\"NLP\"]}"
   ]
  },
  {
   "cell_type": "code",
   "execution_count": 95,
   "id": "7bc93e07-5793-4cce-9f96-c77c7dc6ad4c",
   "metadata": {},
   "outputs": [
    {
     "data": {
      "text/plain": [
       "dict_keys(['name', 'class', 'topics'])"
      ]
     },
     "execution_count": 95,
     "metadata": {},
     "output_type": "execute_result"
    }
   ],
   "source": [
    "d.keys()"
   ]
  },
  {
   "cell_type": "code",
   "execution_count": 99,
   "id": "794bdef4-5bea-455a-b708-5ffa8f03be95",
   "metadata": {},
   "outputs": [
    {
     "name": "stdout",
     "output_type": "stream",
     "text": [
      "abhi\n",
      "Btech(cse)\n",
      "['python', 'stats', 'machine learning', 'dl', 'CV', 'NLP']\n"
     ]
    }
   ],
   "source": [
    "for i in d.keys() :\n",
    "    print(d[i])"
   ]
  },
  {
   "cell_type": "code",
   "execution_count": 100,
   "id": "f7add16b-fe9d-4b5f-8037-2e10e96a672f",
   "metadata": {},
   "outputs": [
    {
     "data": {
      "text/plain": [
       "dict_values(['abhi', 'Btech(cse)', ['python', 'stats', 'machine learning', 'dl', 'CV', 'NLP']])"
      ]
     },
     "execution_count": 100,
     "metadata": {},
     "output_type": "execute_result"
    }
   ],
   "source": [
    "d.values()"
   ]
  },
  {
   "cell_type": "code",
   "execution_count": 103,
   "id": "8e1b3941-4fcb-405d-ab09-b9a7e23f293e",
   "metadata": {},
   "outputs": [
    {
     "name": "stdout",
     "output_type": "stream",
     "text": [
      "abhi\n",
      "Btech(cse)\n",
      "['python', 'stats', 'machine learning', 'dl', 'CV', 'NLP']\n"
     ]
    }
   ],
   "source": [
    "for i in d.values() :\n",
    "    print(i)"
   ]
  },
  {
   "cell_type": "code",
   "execution_count": 104,
   "id": "cc7400be-9869-42f3-9937-f78b9a95622f",
   "metadata": {},
   "outputs": [
    {
     "data": {
      "text/plain": [
       "dict_items([('name', 'abhi'), ('class', 'Btech(cse)'), ('topics', ['python', 'stats', 'machine learning', 'dl', 'CV', 'NLP'])])"
      ]
     },
     "execution_count": 104,
     "metadata": {},
     "output_type": "execute_result"
    }
   ],
   "source": [
    "d.items()"
   ]
  },
  {
   "cell_type": "code",
   "execution_count": 105,
   "id": "63b41ae4-8023-4fc6-accf-34277a4c3df5",
   "metadata": {},
   "outputs": [
    {
     "name": "stdout",
     "output_type": "stream",
     "text": [
      "('name', 'abhi')\n",
      "('class', 'Btech(cse)')\n",
      "('topics', ['python', 'stats', 'machine learning', 'dl', 'CV', 'NLP'])\n"
     ]
    }
   ],
   "source": [
    "for i in d.items():\n",
    "    print (i)"
   ]
  },
  {
   "cell_type": "code",
   "execution_count": null,
   "id": "b17f94f3-fd1c-40bd-a062-2daa56e4e511",
   "metadata": {},
   "outputs": [],
   "source": []
  }
 ],
 "metadata": {
  "kernelspec": {
   "display_name": "Python 3 (ipykernel)",
   "language": "python",
   "name": "python3"
  },
  "language_info": {
   "codemirror_mode": {
    "name": "ipython",
    "version": 3
   },
   "file_extension": ".py",
   "mimetype": "text/x-python",
   "name": "python",
   "nbconvert_exporter": "python",
   "pygments_lexer": "ipython3",
   "version": "3.10.8"
  }
 },
 "nbformat": 4,
 "nbformat_minor": 5
}
